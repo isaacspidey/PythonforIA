{
 "cells": [
  {
   "cell_type": "markdown",
   "id": "8f0722e7-3d22-41d1-9ad6-5c3d0f9b3469",
   "metadata": {},
   "source": [
    "- https://valencia.opendatasoft.com/explore/dataset/estacions-contaminacio-atmosferiques-estaciones-contaminacion-atmosfericas/information/?location=13,39.46576,-0.36855&basemap=e4bf90"
   ]
  },
  {
   "cell_type": "code",
   "execution_count": null,
   "id": "611f54a6-664d-474f-8c11-2c09d74990a3",
   "metadata": {},
   "outputs": [],
   "source": [
    "from time import sleep\n",
    "from os import path\n",
    "\n",
    "import requests\n",
    "import pandas as pd"
   ]
  },
  {
   "cell_type": "code",
   "execution_count": null,
   "id": "49cc4b88-0529-4794-8dd5-a83c6256846a",
   "metadata": {},
   "outputs": [],
   "source": [
    "def make_request(base_url, params):\n",
    "    response = requests.get(base_url, params = params)\n",
    "    if response:\n",
    "        return response.json()\n",
    "        print(response)\n",
    "    else:\n",
    "        raise Exception(\"Error Downloading JSON\")"
   ]
  },
  {
   "cell_type": "code",
   "execution_count": null,
   "id": "a55cadb7-6742-44ac-a043-2be036dabaa2",
   "metadata": {},
   "outputs": [],
   "source": [
    "base_url = \"https://valencia.opendatasoft.com/api/explore/v2.1/catalog/datasets/estacions-contaminacio-atmosferiques-estaciones-contaminacion-atmosfericas/records\""
   ]
  },
  {
   "cell_type": "code",
   "execution_count": null,
   "id": "9d5f02a8-9ac6-451c-9866-24515076a724",
   "metadata": {},
   "outputs": [],
   "source": [
    "params = {'limit' : 0}\n",
    "n_stations = make_request(base_url, params)['total_count']\n",
    "print(f\"Total Number of Active Stations = {n_stations}\")"
   ]
  },
  {
   "cell_type": "code",
   "execution_count": null,
   "id": "6ed40712-e7cb-4c1e-8473-b65cf684336d",
   "metadata": {},
   "outputs": [],
   "source": [
    "first_time = True\n",
    "max_records_per_request = 100\n",
    "\n",
    "current_time = 0\n",
    "sleep_time = 60 * 60\n",
    "total_time = (24 * 60 * 60) + sleep_time\n",
    "\n",
    "path_csv = ['res', 'valencia_pollution_dataset.csv']\n",
    "path_csv_solved = path.join(*path_csv)"
   ]
  },
  {
   "cell_type": "code",
   "execution_count": null,
   "id": "32d914f7-687c-41a9-9ba7-419c8a2adc1e",
   "metadata": {
    "scrolled": true
   },
   "outputs": [],
   "source": [
    "while current_time < total_time:\n",
    "    offset = 0\n",
    "    pollution_list = []\n",
    "\n",
    "    while offset < n_stations:\n",
    "        params = {\"limit\" : max_records_per_request,\n",
    "                  \"offset\" : offset}\n",
    "        sub_list = make_request(base_url, params)['results']\n",
    "        pollution_list += sub_list\n",
    "\n",
    "        offset += max_records_per_request\n",
    "        \n",
    "    print(f\"Current Time = {current_time}, Records Processed = {len(pollution_list)}\")\n",
    "\n",
    "    df = pd.DataFrame(pollution_list, \n",
    "                 columns = ['objectid', \"nombre\", \"direccion\", \"tipozona\", \"tipoemision\", \"so2\", \"no2\", \"o3\", \"co\", \"pm10\", \"pm25\", \"fecha_carga\", \"calidad_ambiental\"])  \n",
    "\n",
    "    df.to_csv(path_csv_solved, sep=',', header = True if first_time else False, index = False, mode = 'a', na_rep = 'N/A')\n",
    "\n",
    "    first_time = False\n",
    "    sleep(sleep_time)\n",
    "    current_time += sleep_time"
   ]
  },
  {
   "cell_type": "code",
   "execution_count": null,
   "id": "3444fb7b-630e-40ed-90d6-56a813877925",
   "metadata": {
    "scrolled": true
   },
   "outputs": [],
   "source": [
    "display(df.head(5))"
   ]
  },
  {
   "cell_type": "code",
   "execution_count": null,
   "id": "2920cc89-49f6-48bd-b91b-5e61436aff77",
   "metadata": {},
   "outputs": [],
   "source": [
    "display(df.info())"
   ]
  },
  {
   "cell_type": "code",
   "execution_count": null,
   "id": "5c70b26e-9df2-4ed9-a195-9a792cad12a7",
   "metadata": {},
   "outputs": [],
   "source": [
    "display(df.describe(include='all'))"
   ]
  },
  {
   "cell_type": "code",
   "execution_count": null,
   "id": "472d8f69-8b8c-406d-98fa-c43338c1b6b8",
   "metadata": {},
   "outputs": [],
   "source": []
  }
 ],
 "metadata": {
  "kernelspec": {
   "display_name": "Python 3 (ipykernel)",
   "language": "python",
   "name": "python3"
  },
  "language_info": {
   "codemirror_mode": {
    "name": "ipython",
    "version": 3
   },
   "file_extension": ".py",
   "mimetype": "text/x-python",
   "name": "python",
   "nbconvert_exporter": "python",
   "pygments_lexer": "ipython3",
   "version": "3.11.9"
  }
 },
 "nbformat": 4,
 "nbformat_minor": 5
}
